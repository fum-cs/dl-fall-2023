{
  "cells": [
    {
      "cell_type": "markdown",
      "metadata": {
        "id": "NpP1lFDHP4nm"
      },
      "source": [
        "M. Amintoosi\n",
        "\n",
        "# Play with Conv layers and filters"
      ]
    },
    {
      "cell_type": "code",
      "execution_count": 5,
      "metadata": {
        "colab": {
          "base_uri": "https://localhost:8080/",
          "height": 35
        },
        "id": "QwTPUaXDP4n1",
        "outputId": "fdab6f25-9ab4-4565-feb8-5038856afbed"
      },
      "outputs": [
        {
          "data": {
            "text/plain": [
              "'2.14.0'"
            ]
          },
          "execution_count": 5,
          "metadata": {},
          "output_type": "execute_result"
        }
      ],
      "source": [
        "import keras\n",
        "from keras import layers\n",
        "from keras import models\n",
        "import tensorflow as tf\n",
        "from tensorflow.keras import initializers\n",
        "import numpy as np\n",
        "import matplotlib.pyplot as plt\n",
        "from scipy import signal\n",
        "import requests\n",
        "from io import BytesIO\n",
        "\n",
        "keras.__version__"
      ]
    },
    {
      "cell_type": "markdown",
      "metadata": {},
      "source": [
        "One Dimensional Convolution using SciPy"
      ]
    },
    {
      "cell_type": "code",
      "execution_count": 6,
      "metadata": {},
      "outputs": [
        {
          "name": "stdout",
          "output_type": "stream",
          "text": [
            "<class 'numpy.int32'>\n",
            "[1 2 3 4 8] [2. 3. 5.]\n"
          ]
        }
      ],
      "source": [
        "x = np.array([1, 2, 3, 4, 8])\n",
        "w = np.array([1 / 3, 1 / 3, 1 / 3])\n",
        "y = signal.convolve(x, w, mode=\"valid\")\n",
        "print(type(x[0]))\n",
        "print(x, y)"
      ]
    },
    {
      "cell_type": "markdown",
      "metadata": {},
      "source": [
        "https://keras.io/api/layers/convolution_layers/convolution1d/\n",
        "\n",
        "## For introducing with Tensors for time series, see Sec 2.2.8 of Deep Learning book, François Chollet\n",
        "\n",
        "Timeseries data or sequence data—Rank-3 tensors of shape (samples, timesteps, features), where each sample is a sequence (of length timesteps) of feature\n",
        "vectors"
      ]
    },
    {
      "cell_type": "code",
      "execution_count": 11,
      "metadata": {},
      "outputs": [
        {
          "name": "stdout",
          "output_type": "stream",
          "text": [
            "[[[0.33333334]]\n",
            "\n",
            " [[0.33333334]]\n",
            "\n",
            " [[0.33333334]]]\n"
          ]
        }
      ],
      "source": [
        "x = np.array([1, 2, 3, 4, 8])\n",
        "x = tf.reshape(x, (1, 5, 1))  # reshape it to match the input shape of Conv1D\n",
        "# create a model with one Conv1D layer\n",
        "w = np.array([1 / 3, 1 / 3, 1 / 3])\n",
        "model = models.Sequential()\n",
        "model.add(\n",
        "    layers.Conv1D(1, 3, input_shape=(5, 1), kernel_initializer=initializers.Constant(w))\n",
        ")\n",
        "print(model.weights[0].numpy())"
      ]
    },
    {
      "cell_type": "code",
      "execution_count": 12,
      "metadata": {},
      "outputs": [
        {
          "name": "stdout",
          "output_type": "stream",
          "text": [
            "(1, 3, 1) tf.Tensor(\n",
            "[[[2.]\n",
            "  [3.]\n",
            "  [5.]]], shape=(1, 3, 1), dtype=float32)\n"
          ]
        }
      ],
      "source": [
        "y = model(x)  # apply the Conv1D layer to the input vector\n",
        "print(y.shape, y)  # print the shape of the output tensor"
      ]
    },
    {
      "cell_type": "markdown",
      "metadata": {},
      "source": [
        "## Applying 1D Conv. on a previous signal\n",
        "I saved the 'truncated_mae_history' from chapter 4 by:\n",
        "\n",
        "np.save(\"truncated_mae_history.npy\", truncated_mae_history)\n",
        "\n",
        "and then load here"
      ]
    },
    {
      "cell_type": "code",
      "execution_count": 8,
      "metadata": {},
      "outputs": [
        {
          "name": "stdout",
          "output_type": "stream",
          "text": [
            "151 2.24075511097908\n",
            "(490,) (488,)\n"
          ]
        },
        {
          "data": {
            "image/png": "[encoded data removed]",
            "text/plain": [
              "<Figure size 432x288 with 1 Axes>"
            ]
          },
          "metadata": {
            "needs_background": "light"
          },
          "output_type": "display_data"
        }
      ],
      "source": [
        "# x = np.load(\"truncated_mae_history.npy\")\n",
        "\n",
        "url = \"https://raw.githubusercontent.com/fum-cs/dl-fall-2023/master/code/truncated_mae_history.npy\"\n",
        "response = requests.get(url) # this gets the file content as a byte stream\n",
        "x = np.load(BytesIO(response.content))\n",
        "w = np.array([1 / 3, 1 / 3, 1 / 3])\n",
        "print(np.argmin(x), np.min(x))\n",
        "model = models.Sequential()\n",
        "model.add(\n",
        "    layers.Conv1D(\n",
        "        1, 3, input_shape=(len(x), 1), kernel_initializer=initializers.Constant(w)\n",
        "    )\n",
        ")\n",
        "\n",
        "X = tf.reshape(x, (1, len(x), 1))\n",
        "y = model(X)\n",
        "y = np.squeeze(y)\n",
        "print(x.shape, y.shape)\n",
        "plt.plot(range(1, len(x) + 1), x)\n",
        "plt.plot(np.argmin(x) + 1, np.min(x), \"g+\", alpha=0.8)\n",
        "\n",
        "plt.plot(range(2, len(y) + 2), y, \"r\")\n",
        "plt.plot(np.argmin(y) + 2, np.min(y), \"kx\", alpha=0.9)\n",
        "plt.xlabel(\"Epochs\")\n",
        "plt.ylabel(\"Validation MAE\")\n",
        "plt.show()"
      ]
    },
    {
      "cell_type": "code",
      "execution_count": 9,
      "metadata": {},
      "outputs": [
        {
          "data": {
            "text/plain": [
              "array([[0.11111111, 0.11111111, 0.11111111, 0.11111111, 0.11111111,\n",
              "        0.11111111, 0.11111111, 0.11111111, 0.11111111]])"
            ]
          },
          "execution_count": 9,
          "metadata": {},
          "output_type": "execute_result"
        }
      ],
      "source": [
        "w = np.ones((1, 9)) / 9\n",
        "w"
      ]
    },
    {
      "cell_type": "code",
      "execution_count": 10,
      "metadata": {},
      "outputs": [
        {
          "name": "stdout",
          "output_type": "stream",
          "text": [
            "103 2.2856743\n"
          ]
        },
        {
          "data": {
            "image/png": "[encoded data removed]",
            "text/plain": [
              "<Figure size 432x288 with 1 Axes>"
            ]
          },
          "metadata": {
            "needs_background": "light"
          },
          "output_type": "display_data"
        }
      ],
      "source": [
        "w = np.ones((9)) / 9\n",
        "model = models.Sequential()\n",
        "model.add(\n",
        "    layers.Conv1D(\n",
        "        1,\n",
        "        w.shape[0],\n",
        "        input_shape=(len(x), 1),\n",
        "        kernel_initializer=initializers.Constant(w),\n",
        "    )\n",
        ")\n",
        "\n",
        "X = tf.reshape(x, (1, len(x), 1))\n",
        "y = model(X)\n",
        "y = np.squeeze(y)\n",
        "print(np.argmin(y), np.min(y))\n",
        "\n",
        "plt.plot(range(1, len(x) + 1), x)\n",
        "plt.plot(np.argmin(x) + 1, np.min(x), \"g+\", alpha=0.8)\n",
        "\n",
        "plt.plot(range(w.shape[0] // 2, len(y) + w.shape[0] // 2), y, \"r\")\n",
        "plt.plot(np.argmin(y) + w.shape[0] // 2, np.min(y), \"kx\", alpha=0.9)\n",
        "plt.xlabel(\"Epochs\")\n",
        "plt.ylabel(\"Validation MAE\")\n",
        "plt.show()"
      ]
    },
    {
      "cell_type": "code",
      "execution_count": 11,
      "metadata": {},
      "outputs": [
        {
          "name": "stdout",
          "output_type": "stream",
          "text": [
            "123 2.2933633\n"
          ]
        },
        {
          "data": {
            "image/png": "[encoded data removed]",
            "text/plain": [
              "<Figure size 432x288 with 1 Axes>"
            ]
          },
          "metadata": {
            "needs_background": "light"
          },
          "output_type": "display_data"
        }
      ],
      "source": [
        "w = np.ones((29)) / 29\n",
        "model = models.Sequential()\n",
        "model.add(\n",
        "    layers.Conv1D(\n",
        "        1,\n",
        "        w.shape[0],\n",
        "        input_shape=(len(x), 1),\n",
        "        kernel_initializer=initializers.Constant(w),\n",
        "    )\n",
        ")\n",
        "\n",
        "X = tf.reshape(x, (1, len(x), 1))\n",
        "y = model(X)\n",
        "y = np.squeeze(y)\n",
        "print(np.argmin(y), np.min(y))\n",
        "\n",
        "plt.plot(range(1, len(x) + 1), x)\n",
        "plt.plot(np.argmin(x) + 1, np.min(x), \"g+\", alpha=0.8)\n",
        "\n",
        "plt.plot(range(w.shape[0] // 2, len(y) + w.shape[0] // 2), y, \"r\")\n",
        "plt.plot(np.argmin(y) + w.shape[0] // 2, np.min(y), \"kx\", alpha=0.9)\n",
        "plt.xlabel(\"Epochs\")\n",
        "plt.ylabel(\"Validation MAE\")\n",
        "plt.show()"
      ]
    },
    {
      "cell_type": "code",
      "execution_count": 12,
      "metadata": {},
      "outputs": [
        {
          "data": {
            "text/plain": [
              "(14, (462,), (490,))"
            ]
          },
          "execution_count": 12,
          "metadata": {},
          "output_type": "execute_result"
        }
      ],
      "source": [
        "w.shape[0] // 2, y.shape, x.shape"
      ]
    },
    {
      "cell_type": "code",
      "execution_count": 13,
      "metadata": {
        "id": "ilX-1NRkl2cU"
      },
      "outputs": [],
      "source": [
        "n_channels = 1\n",
        "n_filters = 1\n",
        "model = models.Sequential()\n",
        "model.add(layers.Conv2D(n_filters, (3, 3), input_shape=(3, 3, n_channels)))"
      ]
    },
    {
      "cell_type": "code",
      "execution_count": 14,
      "metadata": {
        "colab": {
          "base_uri": "https://localhost:8080/"
        },
        "id": "nI8kJgPwJSYh",
        "outputId": "fb55bd36-28d6-4693-b7ad-022f42ac8d5c"
      },
      "outputs": [
        {
          "name": "stdout",
          "output_type": "stream",
          "text": [
            "Model: \"sequential_5\"\n",
            "_________________________________________________________________\n",
            " Layer (type)                Output Shape              Param #   \n",
            "=================================================================\n",
            " conv2d (Conv2D)             (None, 1, 1, 1)           10        \n",
            "                                                                 \n",
            "=================================================================\n",
            "Total params: 10 (40.00 Byte)\n",
            "Trainable params: 10 (40.00 Byte)\n",
            "Non-trainable params: 0 (0.00 Byte)\n",
            "_________________________________________________________________\n"
          ]
        }
      ],
      "source": [
        "model.summary()"
      ]
    },
    {
      "cell_type": "code",
      "execution_count": 15,
      "metadata": {},
      "outputs": [
        {
          "data": {
            "text/plain": [
              "((3, 3, 1, 1),\n",
              " array([[[[ 0.04248655]],\n",
              " \n",
              "         [[-0.5599344 ]],\n",
              " \n",
              "         [[ 0.20875108]]],\n",
              " \n",
              " \n",
              "        [[[ 0.5428939 ]],\n",
              " \n",
              "         [[-0.02432293]],\n",
              " \n",
              "         [[-0.16017598]]],\n",
              " \n",
              " \n",
              "        [[[-0.4182956 ]],\n",
              " \n",
              "         [[-0.09414834]],\n",
              " \n",
              "         [[-0.01861441]]]], dtype=float32))"
            ]
          },
          "execution_count": 15,
          "metadata": {},
          "output_type": "execute_result"
        }
      ],
      "source": [
        "model.layers[0].get_weights()[0].shape, model.layers[0].get_weights()[0]"
      ]
    },
    {
      "cell_type": "markdown",
      "metadata": {},
      "source": [
        "The difference between model.weights and model.layers[i].get_weights() in TF is that model.weights returns a list of all the weights and biases of the model, while model.layers[i].get_weights() returns a list of the weights and biases of the i-th layer of the model."
      ]
    },
    {
      "cell_type": "code",
      "execution_count": 16,
      "metadata": {},
      "outputs": [
        {
          "data": {
            "text/plain": [
              "[<tf.Variable 'conv2d/kernel:0' shape=(3, 3, 1, 1) dtype=float32, numpy=\n",
              " array([[[[ 0.04248655]],\n",
              " \n",
              "         [[-0.5599344 ]],\n",
              " \n",
              "         [[ 0.20875108]]],\n",
              " \n",
              " \n",
              "        [[[ 0.5428939 ]],\n",
              " \n",
              "         [[-0.02432293]],\n",
              " \n",
              "         [[-0.16017598]]],\n",
              " \n",
              " \n",
              "        [[[-0.4182956 ]],\n",
              " \n",
              "         [[-0.09414834]],\n",
              " \n",
              "         [[-0.01861441]]]], dtype=float32)>,\n",
              " <tf.Variable 'conv2d/bias:0' shape=(1,) dtype=float32, numpy=array([0.], dtype=float32)>]"
            ]
          },
          "execution_count": 16,
          "metadata": {},
          "output_type": "execute_result"
        }
      ],
      "source": [
        "model.weights"
      ]
    },
    {
      "cell_type": "code",
      "execution_count": 17,
      "metadata": {},
      "outputs": [
        {
          "data": {
            "text/plain": [
              "((3, 3, 1),\n",
              " array([[[9],\n",
              "         [6],\n",
              "         [7]],\n",
              " \n",
              "        [[5],\n",
              "         [6],\n",
              "         [0]],\n",
              " \n",
              "        [[5],\n",
              "         [2],\n",
              "         [4]]]),\n",
              " array([[9, 6, 7],\n",
              "        [5, 6, 0],\n",
              "        [5, 2, 4]]))"
            ]
          },
          "execution_count": 17,
          "metadata": {},
          "output_type": "execute_result"
        }
      ],
      "source": [
        "input = np.random.randint(0, 10, size=(3, 3, n_channels))\n",
        "input.shape, input, input[:, :, 0]"
      ]
    },
    {
      "cell_type": "code",
      "execution_count": 18,
      "metadata": {},
      "outputs": [],
      "source": [
        "# model.predict(input)"
      ]
    },
    {
      "cell_type": "code",
      "execution_count": 19,
      "metadata": {},
      "outputs": [
        {
          "data": {
            "text/plain": [
              "(1, 3, 3, 1)"
            ]
          },
          "execution_count": 19,
          "metadata": {},
          "output_type": "execute_result"
        }
      ],
      "source": [
        "x = input[np.newaxis, :, :, :]\n",
        "x.shape"
      ]
    },
    {
      "cell_type": "code",
      "execution_count": 20,
      "metadata": {},
      "outputs": [
        {
          "name": "stdout",
          "output_type": "stream",
          "text": [
            "1/1 [==============================] - 0s 333ms/step\n"
          ]
        },
        {
          "data": {
            "text/plain": [
              "array([[[[-1.30167]]]], dtype=float32)"
            ]
          },
          "execution_count": 20,
          "metadata": {},
          "output_type": "execute_result"
        }
      ],
      "source": [
        "model.predict(x)"
      ]
    },
    {
      "cell_type": "code",
      "execution_count": 21,
      "metadata": {},
      "outputs": [
        {
          "data": {
            "text/plain": [
              "TensorShape([3, 3, 1, 1])"
            ]
          },
          "execution_count": 21,
          "metadata": {},
          "output_type": "execute_result"
        }
      ],
      "source": [
        "w = model.weights[0]\n",
        "w.shape"
      ]
    },
    {
      "cell_type": "code",
      "execution_count": 22,
      "metadata": {},
      "outputs": [
        {
          "data": {
            "text/plain": [
              "((3, 3),\n",
              " array([[ 0.04248655, -0.5599344 ,  0.20875108],\n",
              "        [ 0.5428939 , -0.02432293, -0.16017598],\n",
              "        [-0.4182956 , -0.09414834, -0.01861441]], dtype=float32))"
            ]
          },
          "execution_count": 22,
          "metadata": {},
          "output_type": "execute_result"
        }
      ],
      "source": [
        "w = np.squeeze(w, axis=(2, 3))\n",
        "w.shape, w"
      ]
    },
    {
      "cell_type": "code",
      "execution_count": 23,
      "metadata": {},
      "outputs": [
        {
          "data": {
            "text/plain": [
              "-1.3016701638698578"
            ]
          },
          "execution_count": 23,
          "metadata": {},
          "output_type": "execute_result"
        }
      ],
      "source": [
        "np.sum(input[:, :, 0] * w)"
      ]
    },
    {
      "cell_type": "markdown",
      "metadata": {},
      "source": [
        "تغییر تعداد کانال‌های رنگ ورودی"
      ]
    },
    {
      "cell_type": "code",
      "execution_count": 24,
      "metadata": {},
      "outputs": [
        {
          "name": "stdout",
          "output_type": "stream",
          "text": [
            "Model: \"sequential_6\"\n",
            "_________________________________________________________________\n",
            " Layer (type)                Output Shape              Param #   \n",
            "=================================================================\n",
            " conv2d_1 (Conv2D)           (None, 1, 1, 1)           19        \n",
            "                                                                 \n",
            "=================================================================\n",
            "Total params: 19 (76.00 Byte)\n",
            "Trainable params: 19 (76.00 Byte)\n",
            "Non-trainable params: 0 (0.00 Byte)\n",
            "_________________________________________________________________\n"
          ]
        }
      ],
      "source": [
        "n_channels = 2\n",
        "n_filters = 1\n",
        "model = models.Sequential()\n",
        "model.add(layers.Conv2D(n_filters, (3, 3), input_shape=(3, 3, n_channels)))\n",
        "model.summary()"
      ]
    },
    {
      "cell_type": "code",
      "execution_count": 25,
      "metadata": {},
      "outputs": [
        {
          "data": {
            "text/plain": [
              "((3, 3, 2),\n",
              " array([[7, 4, 7],\n",
              "        [5, 0, 9],\n",
              "        [4, 2, 6]]))"
            ]
          },
          "execution_count": 25,
          "metadata": {},
          "output_type": "execute_result"
        }
      ],
      "source": [
        "input = np.random.randint(0, 10, size=(3, 3, n_channels))\n",
        "input.shape, input[:, :, 0]"
      ]
    },
    {
      "cell_type": "code",
      "execution_count": 26,
      "metadata": {},
      "outputs": [
        {
          "name": "stdout",
          "output_type": "stream",
          "text": [
            "1/1 [==============================] - 0s 114ms/step\n"
          ]
        },
        {
          "data": {
            "text/plain": [
              "array([[[[1.4145342]]]], dtype=float32)"
            ]
          },
          "execution_count": 26,
          "metadata": {},
          "output_type": "execute_result"
        }
      ],
      "source": [
        "x = input[np.newaxis, :, :, :]\n",
        "# x.shape\n",
        "# model(x)\n",
        "model.predict(x)"
      ]
    },
    {
      "cell_type": "code",
      "execution_count": 27,
      "metadata": {},
      "outputs": [
        {
          "data": {
            "text/plain": [
              "TensorShape([3, 3, 2, 1])"
            ]
          },
          "execution_count": 27,
          "metadata": {},
          "output_type": "execute_result"
        }
      ],
      "source": [
        "w = model.weights[0]\n",
        "w.shape"
      ]
    },
    {
      "cell_type": "code",
      "execution_count": 28,
      "metadata": {},
      "outputs": [
        {
          "data": {
            "text/plain": [
              "((3, 3, 2),\n",
              " array([[[ 0.08682957, -0.32242182],\n",
              "         [-0.4332959 ,  0.42666253],\n",
              "         [-0.11214086,  0.0743387 ]],\n",
              " \n",
              "        [[-0.1742453 ,  0.18861839],\n",
              "         [-0.46202117,  0.43769178],\n",
              "         [ 0.31819722,  0.07816395]],\n",
              " \n",
              "        [[ 0.4454089 , -0.39000648],\n",
              "         [-0.19030392,  0.25289962],\n",
              "         [-0.3255008 , -0.413692  ]]], dtype=float32))"
            ]
          },
          "execution_count": 28,
          "metadata": {},
          "output_type": "execute_result"
        }
      ],
      "source": [
        "w = np.squeeze(w)\n",
        "w.shape, w"
      ]
    },
    {
      "cell_type": "code",
      "execution_count": 29,
      "metadata": {},
      "outputs": [
        {
          "data": {
            "text/plain": [
              "1.4145340025424957"
            ]
          },
          "execution_count": 29,
          "metadata": {},
          "output_type": "execute_result"
        }
      ],
      "source": [
        "np.sum(input * w)"
      ]
    }
  ],
  "metadata": {
    "accelerator": "GPU",
    "colab": {
      "collapsed_sections": [],
      "name": "conv_play.ipynb",
      "provenance": []
    },
    "kernelspec": {
      "display_name": "Python 3",
      "language": "python",
      "name": "python3"
    },
    "language_info": {
      "codemirror_mode": {
        "name": "ipython",
        "version": 3
      },
      "file_extension": ".py",
      "mimetype": "text/x-python",
      "name": "python",
      "nbconvert_exporter": "python",
      "pygments_lexer": "ipython3",
      "version": "3.10.12"
    }
  },
  "nbformat": 4,
  "nbformat_minor": 0
}
