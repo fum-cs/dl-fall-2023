{
  "cells": [
    {
      "cell_type": "markdown",
      "metadata": {
        "id": "NpP1lFDHP4nm"
      },
      "source": [
        "M. Amintoosi\n",
        "\n",
        "# Play with Conv layers and filters"
      ]
    },
    {
      "cell_type": "code",
      "execution_count": 85,
      "metadata": {
        "colab": {
          "base_uri": "https://localhost:8080/",
          "height": 35
        },
        "id": "QwTPUaXDP4n1",
        "outputId": "fdab6f25-9ab4-4565-feb8-5038856afbed"
      },
      "outputs": [
        {
          "data": {
            "text/plain": [
              "'2.14.0'"
            ]
          },
          "execution_count": 85,
          "metadata": {},
          "output_type": "execute_result"
        }
      ],
      "source": [
        "import keras\n",
        "from keras import layers\n",
        "from keras import models\n",
        "import tensorflow as tf\n",
        "import numpy as np\n",
        "\n",
        "keras.__version__"
      ]
    },
    {
      "cell_type": "code",
      "execution_count": 86,
      "metadata": {
        "id": "ilX-1NRkl2cU"
      },
      "outputs": [],
      "source": [
        "n_channels = 1\n",
        "n_filters = 1\n",
        "model = models.Sequential()\n",
        "model.add(layers.Conv2D(n_filters, (3, 3), input_shape=(3, 3, n_channels)))"
      ]
    },
    {
      "cell_type": "code",
      "execution_count": 87,
      "metadata": {
        "colab": {
          "base_uri": "https://localhost:8080/"
        },
        "id": "nI8kJgPwJSYh",
        "outputId": "fb55bd36-28d6-4693-b7ad-022f42ac8d5c"
      },
      "outputs": [
        {
          "name": "stdout",
          "output_type": "stream",
          "text": [
            "Model: \"sequential_9\"\n",
            "_________________________________________________________________\n",
            " Layer (type)                Output Shape              Param #   \n",
            "=================================================================\n",
            " conv2d_9 (Conv2D)           (None, 1, 1, 1)           10        \n",
            "                                                                 \n",
            "=================================================================\n",
            "Total params: 10 (40.00 Byte)\n",
            "Trainable params: 10 (40.00 Byte)\n",
            "Non-trainable params: 0 (0.00 Byte)\n",
            "_________________________________________________________________\n"
          ]
        }
      ],
      "source": [
        "model.summary()"
      ]
    },
    {
      "cell_type": "code",
      "execution_count": 88,
      "metadata": {},
      "outputs": [
        {
          "data": {
            "text/plain": [
              "((3, 3, 1, 1),\n",
              " array([[[[-0.5267342 ]],\n",
              " \n",
              "         [[-0.5311715 ]],\n",
              " \n",
              "         [[ 0.5145925 ]]],\n",
              " \n",
              " \n",
              "        [[[ 0.453048  ]],\n",
              " \n",
              "         [[-0.19120044]],\n",
              " \n",
              "         [[-0.50300837]]],\n",
              " \n",
              " \n",
              "        [[[-0.33497047]],\n",
              " \n",
              "         [[ 0.16212177]],\n",
              " \n",
              "         [[ 0.11044431]]]], dtype=float32))"
            ]
          },
          "execution_count": 88,
          "metadata": {},
          "output_type": "execute_result"
        }
      ],
      "source": [
        "model.layers[0].get_weights()[0].shape, model.layers[0].get_weights()[0]"
      ]
    },
    {
      "cell_type": "markdown",
      "metadata": {},
      "source": [
        "The difference between model.weights and model.layers[i].get_weights() in TF is that model.weights returns a list of all the weights and biases of the model, while model.layers[i].get_weights() returns a list of the weights and biases of the i-th layer of the model."
      ]
    },
    {
      "cell_type": "code",
      "execution_count": 89,
      "metadata": {},
      "outputs": [
        {
          "data": {
            "text/plain": [
              "[<tf.Variable 'conv2d_9/kernel:0' shape=(3, 3, 1, 1) dtype=float32, numpy=\n",
              " array([[[[-0.5267342 ]],\n",
              " \n",
              "         [[-0.5311715 ]],\n",
              " \n",
              "         [[ 0.5145925 ]]],\n",
              " \n",
              " \n",
              "        [[[ 0.453048  ]],\n",
              " \n",
              "         [[-0.19120044]],\n",
              " \n",
              "         [[-0.50300837]]],\n",
              " \n",
              " \n",
              "        [[[-0.33497047]],\n",
              " \n",
              "         [[ 0.16212177]],\n",
              " \n",
              "         [[ 0.11044431]]]], dtype=float32)>,\n",
              " <tf.Variable 'conv2d_9/bias:0' shape=(1,) dtype=float32, numpy=array([0.], dtype=float32)>]"
            ]
          },
          "execution_count": 89,
          "metadata": {},
          "output_type": "execute_result"
        }
      ],
      "source": [
        "model.weights"
      ]
    },
    {
      "cell_type": "code",
      "execution_count": 90,
      "metadata": {},
      "outputs": [
        {
          "data": {
            "text/plain": [
              "((3, 3, 1),\n",
              " array([[[0],\n",
              "         [4],\n",
              "         [0]],\n",
              " \n",
              "        [[2],\n",
              "         [1],\n",
              "         [9]],\n",
              " \n",
              "        [[7],\n",
              "         [1],\n",
              "         [9]]]),\n",
              " array([[0, 4, 0],\n",
              "        [2, 1, 9],\n",
              "        [7, 1, 9]]))"
            ]
          },
          "execution_count": 90,
          "metadata": {},
          "output_type": "execute_result"
        }
      ],
      "source": [
        "input = np.random.randint(0, 10, size=(3, 3, n_channels))\n",
        "input.shape, input, input[:,:,0]"
      ]
    },
    {
      "cell_type": "code",
      "execution_count": 91,
      "metadata": {},
      "outputs": [],
      "source": [
        "# model.predict(input)"
      ]
    },
    {
      "cell_type": "code",
      "execution_count": 92,
      "metadata": {},
      "outputs": [
        {
          "data": {
            "text/plain": [
              "(1, 3, 3, 1)"
            ]
          },
          "execution_count": 92,
          "metadata": {},
          "output_type": "execute_result"
        }
      ],
      "source": [
        "x = input[np.newaxis,:,:,:]\n",
        "x.shape"
      ]
    },
    {
      "cell_type": "code",
      "execution_count": 93,
      "metadata": {},
      "outputs": [
        {
          "name": "stdout",
          "output_type": "stream",
          "text": [
            "WARNING:tensorflow:5 out of the last 6 calls to <function Model.make_predict_function.<locals>.predict_function at 0x00000289AE0716C0> triggered tf.function retracing. Tracing is expensive and the excessive number of tracings could be due to (1) creating @tf.function repeatedly in a loop, (2) passing tensors with different shapes, (3) passing Python objects instead of tensors. For (1), please define your @tf.function outside of the loop. For (2), @tf.function has reduce_retracing=True option that can avoid unnecessary retracing. For (3), please refer to https://www.tensorflow.org/guide/function#controlling_retracing and https://www.tensorflow.org/api_docs/python/tf/function for  more details.\n",
            "1/1 [==============================] - 0s 56ms/step\n"
          ]
        },
        {
          "data": {
            "text/plain": [
              "array([[[[-7.125539]]]], dtype=float32)"
            ]
          },
          "execution_count": 93,
          "metadata": {},
          "output_type": "execute_result"
        }
      ],
      "source": [
        "model.predict(x)"
      ]
    },
    {
      "cell_type": "code",
      "execution_count": 94,
      "metadata": {},
      "outputs": [
        {
          "data": {
            "text/plain": [
              "TensorShape([3, 3, 1, 1])"
            ]
          },
          "execution_count": 94,
          "metadata": {},
          "output_type": "execute_result"
        }
      ],
      "source": [
        "w = model.weights[0]\n",
        "w.shape"
      ]
    },
    {
      "cell_type": "code",
      "execution_count": 95,
      "metadata": {},
      "outputs": [
        {
          "data": {
            "text/plain": [
              "((3, 3),\n",
              " array([[-0.5267342 , -0.5311715 ,  0.5145925 ],\n",
              "        [ 0.453048  , -0.19120044, -0.50300837],\n",
              "        [-0.33497047,  0.16212177,  0.11044431]], dtype=float32))"
            ]
          },
          "execution_count": 95,
          "metadata": {},
          "output_type": "execute_result"
        }
      ],
      "source": [
        "w = np.squeeze(w, axis=(2, 3))\n",
        "w.shape, w"
      ]
    },
    {
      "cell_type": "code",
      "execution_count": 96,
      "metadata": {},
      "outputs": [
        {
          "data": {
            "text/plain": [
              "-7.125538527965546"
            ]
          },
          "execution_count": 96,
          "metadata": {},
          "output_type": "execute_result"
        }
      ],
      "source": [
        "np.sum(input[:,:,0]*w)"
      ]
    },
    {
      "cell_type": "markdown",
      "metadata": {},
      "source": [
        "تغییر تعداد کانال‌های رنگ ورودی"
      ]
    },
    {
      "cell_type": "code",
      "execution_count": 97,
      "metadata": {},
      "outputs": [
        {
          "name": "stdout",
          "output_type": "stream",
          "text": [
            "Model: \"sequential_10\"\n",
            "_________________________________________________________________\n",
            " Layer (type)                Output Shape              Param #   \n",
            "=================================================================\n",
            " conv2d_10 (Conv2D)          (None, 1, 1, 1)           19        \n",
            "                                                                 \n",
            "=================================================================\n",
            "Total params: 19 (76.00 Byte)\n",
            "Trainable params: 19 (76.00 Byte)\n",
            "Non-trainable params: 0 (0.00 Byte)\n",
            "_________________________________________________________________\n"
          ]
        }
      ],
      "source": [
        "n_channels = 2\n",
        "n_filters = 1\n",
        "model = models.Sequential()\n",
        "model.add(layers.Conv2D(n_filters, (3, 3), input_shape=(3, 3, n_channels)))\n",
        "model.summary()"
      ]
    },
    {
      "cell_type": "code",
      "execution_count": 98,
      "metadata": {},
      "outputs": [
        {
          "data": {
            "text/plain": [
              "((3, 3, 2),\n",
              " array([[2, 6, 1],\n",
              "        [1, 0, 7],\n",
              "        [8, 1, 1]]))"
            ]
          },
          "execution_count": 98,
          "metadata": {},
          "output_type": "execute_result"
        }
      ],
      "source": [
        "input = np.random.randint(0, 10, size=(3, 3, n_channels))\n",
        "input.shape, input[:,:,0]"
      ]
    },
    {
      "cell_type": "code",
      "execution_count": 99,
      "metadata": {},
      "outputs": [
        {
          "name": "stdout",
          "output_type": "stream",
          "text": [
            "WARNING:tensorflow:6 out of the last 7 calls to <function Model.make_predict_function.<locals>.predict_function at 0x0000028995D939A0> triggered tf.function retracing. Tracing is expensive and the excessive number of tracings could be due to (1) creating @tf.function repeatedly in a loop, (2) passing tensors with different shapes, (3) passing Python objects instead of tensors. For (1), please define your @tf.function outside of the loop. For (2), @tf.function has reduce_retracing=True option that can avoid unnecessary retracing. For (3), please refer to https://www.tensorflow.org/guide/function#controlling_retracing and https://www.tensorflow.org/api_docs/python/tf/function for  more details.\n",
            "1/1 [==============================] - 0s 182ms/step\n"
          ]
        },
        {
          "data": {
            "text/plain": [
              "array([[[[2.0529406]]]], dtype=float32)"
            ]
          },
          "execution_count": 99,
          "metadata": {},
          "output_type": "execute_result"
        }
      ],
      "source": [
        "x = input[np.newaxis,:,:,:]\n",
        "# x.shape\n",
        "model.predict(x)"
      ]
    },
    {
      "cell_type": "code",
      "execution_count": 100,
      "metadata": {},
      "outputs": [
        {
          "data": {
            "text/plain": [
              "TensorShape([3, 3, 2, 1])"
            ]
          },
          "execution_count": 100,
          "metadata": {},
          "output_type": "execute_result"
        }
      ],
      "source": [
        "w = model.weights[0]\n",
        "w.shape"
      ]
    },
    {
      "cell_type": "code",
      "execution_count": 101,
      "metadata": {},
      "outputs": [
        {
          "data": {
            "text/plain": [
              "((3, 3, 2),\n",
              " array([[[-0.35773772, -0.27180827],\n",
              "         [ 0.01903328, -0.00075549],\n",
              "         [ 0.32946035, -0.25483716]],\n",
              " \n",
              "        [[ 0.03442004, -0.45545053],\n",
              "         [-0.05410364,  0.3932884 ],\n",
              "         [-0.23828074, -0.33123094]],\n",
              " \n",
              "        [[ 0.2905381 ,  0.37793425],\n",
              "         [ 0.2984381 , -0.1826269 ],\n",
              "         [-0.35273024,  0.28576055]]], dtype=float32))"
            ]
          },
          "execution_count": 101,
          "metadata": {},
          "output_type": "execute_result"
        }
      ],
      "source": [
        "w = np.squeeze(w)\n",
        "w.shape, w"
      ]
    },
    {
      "cell_type": "code",
      "execution_count": 102,
      "metadata": {},
      "outputs": [
        {
          "data": {
            "text/plain": [
              "2.052940219640732"
            ]
          },
          "execution_count": 102,
          "metadata": {},
          "output_type": "execute_result"
        }
      ],
      "source": [
        "np.sum(input*w)"
      ]
    },
    {
      "cell_type": "code",
      "execution_count": null,
      "metadata": {},
      "outputs": [],
      "source": []
    }
  ],
  "metadata": {
    "accelerator": "GPU",
    "colab": {
      "collapsed_sections": [],
      "name": "FC2FC_Calligraphy.ipynb",
      "provenance": []
    },
    "kernelspec": {
      "display_name": "Python 3",
      "language": "python",
      "name": "python3"
    },
    "language_info": {
      "codemirror_mode": {
        "name": "ipython",
        "version": 3
      },
      "file_extension": ".py",
      "mimetype": "text/x-python",
      "name": "python",
      "nbconvert_exporter": "python",
      "pygments_lexer": "ipython3",
      "version": "3.10.12"
    }
  },
  "nbformat": 4,
  "nbformat_minor": 0
}
